{
 "cells": [
  {
   "attachments": {},
   "cell_type": "markdown",
   "metadata": {},
   "source": [
    "Мета мініпроєкту: дослідити та проаналізувати погодні умови  у світі протягом 10 років"
   ]
  },
  {
   "cell_type": "markdown",
   "metadata": {},
   "source": [
    "Ми не запускали цей ноутбук, адже його вага стає великою та він тоді є незручним у поширенні"
   ]
  },
  {
   "cell_type": "code",
   "execution_count": null,
   "metadata": {},
   "outputs": [],
   "source": [
    "# !pip install plotly\n",
    "# !pip install pandas\n",
    "# !pip install pycountry_convert"
   ]
  },
  {
   "attachments": {},
   "cell_type": "markdown",
   "metadata": {},
   "source": [
    "Блок 1"
   ]
  },
  {
   "attachments": {},
   "cell_type": "markdown",
   "metadata": {},
   "source": [
    "У цьому блоці ми працюємо з даними про погоду в Австралії"
   ]
  },
  {
   "attachments": {},
   "cell_type": "markdown",
   "metadata": {},
   "source": [
    "Імпортуємо необхідні бібліотеки: NumPy - для роботи з масивами, Pandas - для аналізу даних та роботи з табличними даними, Plotly Express та Plotly Graph Objects - для візуалізації даних"
   ]
  },
  {
   "cell_type": "code",
   "execution_count": null,
   "metadata": {},
   "outputs": [],
   "source": [
    "import numpy as np\n",
    "import pandas as pd\n",
    "import plotly.express as px\n",
    "import plotly.graph_objects as go\n",
    "import plotly.offline as py\n",
    "import pycountry_convert as pc"
   ]
  },
  {
   "attachments": {},
   "cell_type": "markdown",
   "metadata": {},
   "source": [
    "Створюмо клас Research, у якому містяться допоміжні функції\n",
    "1. Функція read_information(cls, path) зчитує інформацію з CSV-файлу, використовуючи бібліотеку pandas\n",
    "\n",
    "cls - аргумент, що вказує на клас методу;\n",
    "path - шлях до CSV-файлу.\n",
    "\n",
    "2. Функція pd_filter_year(cls, df, first_mean, num1, second_mean, num2) для фільтрування DataFrame за роками\n",
    "\n",
    "cls - аргумент, що вказує на клас методу;\n",
    "df - об'єкт DataFrame;\n",
    "first_mean - рядок, що вказує на назву колонки, у якій містяться дані про першу змінну, з якою будемо працювати;\n",
    "num1 - число для фільтрування;\n",
    "second_mean - рядок, що вказує на назву колонки, у якій містяться дані про другу змінну, з якою будемо працювати;\n",
    "num2 - число для фільтрування.\n",
    "\n",
    "3. Функція pd_filter_temp(cls, df, first_mean, num1, second_mean, num2) фільтрує значення за умовами 'MinTemp' > 0 та 'MaxTemp' > 0.\n",
    "\n",
    "cls - аргумент, що вказує на клас методу;\n",
    "df - об'єкт DataFrame;\n",
    "first_mean - рядок, що вказує на назву колонки, у якій містяться дані про першу змінну, з якою будемо працювати;\n",
    "num1 - число для фільтрування;\n",
    "second_mean - рядок, що вказує на назву колонки, у якій містяться дані про другу змінну, з якою будемо працювати;\n",
    "num2 - число для фільтрування.\n",
    "\n",
    "4. Функція show_graph(cls, fig) для зображенння графіка.\n",
    "\n",
    "cls - аргумент, що вказує на клас методу;\n",
    "fig - об'єкт, який містить інфорацію для побудови гафіка.\n",
    "\n",
    "5. Функція pd_delete_column(cls, dataset, columns, axis) видаляє вказану колонку\n",
    "\n",
    "cls - аргумент, що вказує на клас методу;\n",
    "dataset - об'єкт DataFrame, з якого будуть видалені колонки;\n",
    "columns - колонки, які потрібно видалити;\n",
    "axis - аргумент, який вказує на вісь, по якій будуть видалятися стовпці.\n",
    "\n",
    "6. Функція show_year_avrtemp(cls, df, location, city, aus_year, aus_date, what_sort) створює новий DataFrame за значенням колонки та шукає середнє значення\n",
    "\n",
    "cls - аргумент, що вказує на клас методу;\n",
    "df - об'єкт DataFrame;\n",
    "location - назва колонки;\n",
    "city -  місто, для якого потрібно знайти середнє значення температури;\n",
    "aus_year - рядок, який вказує назву колонки, в яку будуть записані роки;\n",
    "aus_date - рядок, який вказує назву колонки, в яку будуть записані дати;\n",
    "what_sort - рядок, який вказує назву колонки, яка містить дані про температуру.\n",
    "\n",
    "7. Функція linear_graph(cls, cities_information, city_name) для побудови лінійного графіка. Cтворюємо об'єкт fig , який буде використовуватися для побудови графіка, додаємо дані на графік за допомогою методу add_trace(), задаємо назви осей за допомогою методу update_layout\n",
    "\n",
    "cls - аргумент, що вказує на клас методу;\n",
    "cities_information - об'єкт, який містить інформацію про температуру різних років;\n",
    "city_name - назва міста, для якого буде побудовано графік.\n",
    "\n",
    "8. Функція show_histogram(cls, value, x, y, title, color, xaxis_title, yaxis_title) для побудови гістограми\n",
    "\n",
    "cls - аргумент, що вказує на клас методу;\n",
    "value - містить дані, на основі яких буде побудовано гістограму;\n",
    "x - назва колонки;\n",
    "y - назва іншої колонки;\n",
    "title - заголовок гістограми;\n",
    "xaxis_title - заголовок для осі Х;\n",
    "yaxis_title - заголовок для осі Y.\n",
    "\n",
    "9. Фнукція count_uniq_cities(cls, df), яка повертає кількість унікальних міст\n",
    "\n",
    "cls - аргумент, що вказує на клас методу;\n",
    "df - об'єкт DataFrame.\n",
    "\n",
    "10. Функція replace_wdir(cls, degrees), яка переводить градуси у сторони горизонту\n",
    "\n",
    "cls - аргумент, що вказує на клас методу;\n",
    "degrees - кут вітру.\n",
    "\n",
    "11. Функція group_by(cls, df, what, largorsmal, name) для групування даних за певними стовпцями\n",
    "\n",
    "cls - аргумент, що вказує на клас методу;\n",
    "df - об'єкт DataFrame;\n",
    "what - стовпець, за яким потрібно групувати дані;\n",
    "largorsmal - рядок (або 'largest', або'smallest');\n",
    "name - назва стовпця, за яким виконується вибірка.\n",
    "\n",
    "12. Функція sort_by(cls, df, bywhat) для сортування DataFrame\n",
    "\n",
    "cls - аргумент, що вказує на клас методу;\n",
    "df - об'єкт DataFrame;\n",
    "bywhat - колонка, за якою потрібно відсортувати дані."
   ]
  },
  {
   "cell_type": "code",
   "execution_count": null,
   "metadata": {},
   "outputs": [],
   "source": [
    "class Research:\n",
    "    @classmethod\n",
    "    def read_information(cls, path):\n",
    "        df = pd.read_csv(path)\n",
    "        return df\n",
    "    @classmethod\n",
    "    def pd_filter_year(cls, df, first_mean, num1, second_mean, num2):\n",
    "        return df[(df[first_mean].dt.year >= num1) & (df[second_mean].dt.year <= num2)]\n",
    "    @classmethod\n",
    "    def pd_filter_temp(cls, df, first_mean, num1, second_mean, num2):\n",
    "        return df[(df[first_mean] > num1) & (df[second_mean] > num2)]\n",
    "    @classmethod\n",
    "    def show_graph(cls, fig):\n",
    "        fig.show()\n",
    "    @classmethod\n",
    "    def pd_delete_column(cls, dataset, columns, axis):\n",
    "        return dataset.drop(columns = columns,axis = axis)\n",
    "    @classmethod\n",
    "    def show_year_avrtemp(cls, df, location, city, aus_year, aus_date, what_sort):\n",
    "        produced_df = df[df[location] == city].copy()\n",
    "        produced_df.loc[:, aus_year] = produced_df.loc[:, aus_date].dt.year\n",
    "        grouped_data = produced_df.groupby(aus_year)\n",
    "        all = grouped_data[what_sort].mean()\n",
    "        return all\n",
    "    @classmethod\n",
    "    def linear_graph(cls, cities_information, city_name):\n",
    "        fig = go.Figure()\n",
    "        fig.add_trace(go.Scatter(\n",
    "            x=cities_information.index, y=cities_information.values))\n",
    "        fig.update_layout(showlegend=False,\n",
    "                        xaxis_title='Year',\n",
    "                        yaxis_title='Average Max Temperature',\n",
    "                        title=f'Average Max Temperature in {city_name}')\n",
    "        fig.show()\n",
    "    @classmethod\n",
    "    def show_histogram(cls, value, x, y, title, color, xaxis_title, yaxis_title):\n",
    "        fig = px.histogram(value, x=x, y=y, title=title, color=color)\n",
    "        fig.update_layout(xaxis_title=xaxis_title, yaxis_title=yaxis_title)\n",
    "        fig.show()\n",
    "    @classmethod\n",
    "    def count_uniq_cities(cls, df):\n",
    "        all_cities = list(df['Location'])\n",
    "        unique_cities = list(set(all_cities))\n",
    "        return unique_cities\n",
    "    @classmethod\n",
    "    def replace_wdir(cls, degrees):\n",
    "        if 337.5 <= degrees <= 360 or 0 <= degrees < 22.5:\n",
    "            return \"North\"\n",
    "        elif 22.5 <= degrees < 67.5:\n",
    "            return \"Northeast\"\n",
    "        elif 67.5 <= degrees < 112.5:\n",
    "            return \"East\"\n",
    "        elif 112.5 <= degrees < 157.5:\n",
    "            return \"Southeast\"\n",
    "        elif 157.5 <= degrees < 202.5:\n",
    "            return \"South\"\n",
    "        elif 202.5 <= degrees < 247.5:\n",
    "            return \"Southwest\"\n",
    "        elif 247.5 <= degrees < 292.5:\n",
    "            return \"West\"\n",
    "        elif 292.5 <= degrees < 337.5:\n",
    "            return \"Northwest\"\n",
    "        else:\n",
    "            return \"Unknown\"\n",
    "    @classmethod\n",
    "    def group_by(cls, df, what, largorsmal, name):\n",
    "        if largorsmal == 'largest':\n",
    "            output = df.groupby(what).apply(lambda x: x.nlargest(1, name)).reset_index(drop=True)\n",
    "        elif largorsmal == 'smallest':\n",
    "            output = df.groupby(what).apply(lambda x: x.nsmallest(1, name)).reset_index(drop=True)\n",
    "        return output\n",
    "    @classmethod\n",
    "    def sort_by(cls, df, bywhat):\n",
    "        return df.sort_values(bywhat)\n",
    "    def country_to_continent(self, country_name):\n",
    "        try:\n",
    "            if country_name == 'Russia' or country_name == 'Russia':\n",
    "                return 'Asia'\n",
    "            country_alpha2 = pc.country_name_to_country_alpha2(country_name)\n",
    "            country_continent_code = pc.country_alpha2_to_continent_code(country_alpha2)\n",
    "            country_continent_name = pc.convert_continent_code_to_continent_name(country_continent_code)\n",
    "            return country_continent_name\n",
    "        except KeyError:\n",
    "            return 'Not fount'\n"
   ]
  },
  {
   "attachments": {},
   "cell_type": "markdown",
   "metadata": {},
   "source": [
    "1. Austrlia Weather Dataset"
   ]
  },
  {
   "attachments": {},
   "cell_type": "markdown",
   "metadata": {},
   "source": [
    "Цей код завантажує дані про погоду з файлу weatherAUS.csv, перетворює стовпець \"Date\" на тип datetime, обмежує дані з 2010 по 2017 рік."
   ]
  },
  {
   "cell_type": "code",
   "execution_count": null,
   "metadata": {},
   "outputs": [],
   "source": [
    "df = Research.read_information('weatherAUS.csv')\n",
    "df['Date'] = pd.to_datetime(df['Date'])\n",
    "df = Research.pd_filter_year(df, 'Date', 2010, 'Date', 2017)"
   ]
  },
  {
   "attachments": {},
   "cell_type": "markdown",
   "metadata": {},
   "source": [
    "Почищений датасет, функція деліт працює для обох датасетів"
   ]
  },
  {
   "cell_type": "code",
   "execution_count": null,
   "metadata": {},
   "outputs": [],
   "source": [
    "df = Research.pd_delete_column(df, 'Temp9am', 1)\n",
    "df = Research.pd_delete_column(df, 'Temp3pm', 1)\n",
    "df = Research.pd_delete_column(df, 'WindDir9am', 1)\n",
    "df.head()"
   ]
  },
  {
   "attachments": {},
   "cell_type": "markdown",
   "metadata": {},
   "source": [
    "Код повертає кількість рядків і стовпців DataFrame."
   ]
  },
  {
   "cell_type": "code",
   "execution_count": null,
   "metadata": {},
   "outputs": [],
   "source": [
    "df.shape"
   ]
  },
  {
   "attachments": {},
   "cell_type": "markdown",
   "metadata": {},
   "source": [
    "Функція повертає кількість унікальних міст"
   ]
  },
  {
   "cell_type": "code",
   "execution_count": null,
   "metadata": {},
   "outputs": [],
   "source": [
    "Research.count_uniq_cities(df)\n"
   ]
  },
  {
   "attachments": {},
   "cell_type": "markdown",
   "metadata": {},
   "source": [
    "Canberra"
   ]
  },
  {
   "attachments": {},
   "cell_type": "markdown",
   "metadata": {},
   "source": [
    "Наступний код повертає середню максимальну температуру протягом 7 років у місті Canberra"
   ]
  },
  {
   "cell_type": "code",
   "execution_count": null,
   "metadata": {},
   "outputs": [],
   "source": [
    "canberra_inf = Research.show_year_avrtemp(df, 'Location', 'Canberra', 'Year', 'Date', 'MaxTemp')\n",
    "canberra_inf"
   ]
  },
  {
   "attachments": {},
   "cell_type": "markdown",
   "metadata": {},
   "source": [
    "Цей код відображає графік - амплітуду середньої максимальної темпуратури у місті Canberra."
   ]
  },
  {
   "cell_type": "code",
   "execution_count": null,
   "metadata": {},
   "outputs": [],
   "source": [
    "Research.linear_graph(canberra_inf, 'Canberra')"
   ]
  },
  {
   "attachments": {},
   "cell_type": "markdown",
   "metadata": {},
   "source": [
    "Melbourne"
   ]
  },
  {
   "attachments": {},
   "cell_type": "markdown",
   "metadata": {},
   "source": [
    "Наступний код повертає середню максимальну температуру протягом 7 років у місті Melbourne"
   ]
  },
  {
   "cell_type": "code",
   "execution_count": null,
   "metadata": {},
   "outputs": [],
   "source": [
    "melbourne_inf = Research.show_year_avrtemp(df, 'Location', 'MelbourneAirport', 'Year', 'Date', 'MaxTemp')\n",
    "melbourne_inf"
   ]
  },
  {
   "attachments": {},
   "cell_type": "markdown",
   "metadata": {},
   "source": [
    "Наступний код повертає середню максимальну температуру протягом 7 років у місті Melbourne"
   ]
  },
  {
   "cell_type": "code",
   "execution_count": null,
   "metadata": {},
   "outputs": [],
   "source": [
    "Research.linear_graph(melbourne_inf, 'Melbourne')"
   ]
  },
  {
   "attachments": {},
   "cell_type": "markdown",
   "metadata": {},
   "source": [
    "Sydney"
   ]
  },
  {
   "attachments": {},
   "cell_type": "markdown",
   "metadata": {},
   "source": [
    "Наступний код повертає середню максимальну температуру протягом 7 років у місті Sydney."
   ]
  },
  {
   "cell_type": "code",
   "execution_count": null,
   "metadata": {},
   "outputs": [],
   "source": [
    "sydney_inf = Research.show_year_avrtemp(df, 'Location', 'Sydney', 'Year', 'Date', 'MaxTemp')\n",
    "sydney_inf"
   ]
  },
  {
   "attachments": {},
   "cell_type": "markdown",
   "metadata": {},
   "source": [
    "Наступний код повертає середню максимальну температуру протягом 7 років у місті Sydney."
   ]
  },
  {
   "cell_type": "code",
   "execution_count": null,
   "metadata": {},
   "outputs": [],
   "source": [
    "Research.linear_graph(melbourne_inf, 'Sydney')"
   ]
  },
  {
   "attachments": {},
   "cell_type": "markdown",
   "metadata": {},
   "source": [
    "Цей код створює графік з трьома лінійними графіками, які відображають середню максимальну температуру для трьох міст (Canberra, Melbourne, Sydney) протягом семи років.\n",
    "\n",
    "Створюється об'єкт fig типу go.Figure(), який представляє собою порожній графік.\n",
    "\n",
    "До графіка додаються три лінійні графіки (go.Scatter), за допомогою функції add_trace(), які відображатимуть дані для кожного з міст, кожне місто - окремий колір."
   ]
  },
  {
   "attachments": {},
   "cell_type": "markdown",
   "metadata": {},
   "source": [
    "За допомогою цього графіку можна дуже добре побачиту зміну температури за 7 років та зрозуміти, що міста розташовуються на різних географічних широтах, у Сіднеї найтепліше, адже розташований найпівнічніше."
   ]
  },
  {
   "cell_type": "code",
   "execution_count": null,
   "metadata": {},
   "outputs": [],
   "source": [
    "fig = go.Figure()\n",
    "fig.add_trace(go.Scatter(x=canberra_inf.index, y=canberra_inf.values,\n",
    "                         mode='lines', name='Canberra'))\n",
    "fig.add_trace(go.Scatter(x=melbourne_inf.index, y=melbourne_inf.values,\n",
    "                         mode='lines', name='Melbourne'))\n",
    "fig.add_trace(go.Scatter(x=sydney_inf.index, y=sydney_inf.values,\n",
    "                         mode='lines', name='Sydney'))\n",
    "fig.update_layout(xaxis_title='Year', yaxis_title='Average Max Temperature', title='Average Max Temperature')\n",
    "fig.update_layout(width=800, height=500)\n",
    "Research.show_graph(fig)"
   ]
  },
  {
   "attachments": {},
   "cell_type": "markdown",
   "metadata": {},
   "source": [
    "Цей графік є розсіювальним графіком з анімацією. Кожна точка на графіку представляє певне місце і показує залежність між мінімальною температурою та максимальною температурою. Розмір кожної точки залежить від кількістю опадів, а колір відображає, чи були опади в цей день."
   ]
  },
  {
   "cell_type": "code",
   "execution_count": null,
   "metadata": {},
   "outputs": [],
   "source": [
    "df['Date'] = pd.to_datetime(df['Date']).dt.strftime('%Y-%m-%d')\n",
    "df['Rainfall'] = df['Rainfall'].fillna(0)\n",
    "temp_df = Research.pd_filter_temp(df, 'MinTemp', 0, 'MaxTemp', 0)\n",
    "fig = px.scatter(temp_df, x=\"MinTemp\", y=\"MaxTemp\", animation_frame=\"Date\", animation_group=\"Location\",\n",
    "           size=\"Rainfall\", color=\"RainToday\", hover_name=\"Location\",\n",
    "           log_x=True, size_max=55, range_x=[10, 20], range_y=[10, 40])\n",
    "Research.show_graph(fig)"
   ]
  },
  {
   "attachments": {},
   "cell_type": "markdown",
   "metadata": {},
   "source": [
    "Сезон дощів в Австралії припадає на північний регіон країни, а Кернс знаходиться в центрі всього цього. З листопада по квітень сезон складається з сильних опадів, великої кількості штормів і високої вологості. Повені та грози тут є звичайним явищем"
   ]
  },
  {
   "cell_type": "code",
   "execution_count": null,
   "metadata": {},
   "outputs": [],
   "source": [
    "Research.show_histogram(df, 'Rainfall', 'Location', 'Amount of precipitation in each city', 'Location', 'Amount of precipitation', 'Cities')"
   ]
  },
  {
   "attachments": {},
   "cell_type": "markdown",
   "metadata": {},
   "source": [
    "За допомогою наступного коду ми створюємо новий DataFrame, який містить тільки рядки з даними про погоду для міст зі списку selected_cities, сортуємо його за допомогою колонки Location та знаходимо мінімальне та максимальне значення температури для кожного міста"
   ]
  },
  {
   "cell_type": "code",
   "execution_count": null,
   "metadata": {},
   "outputs": [],
   "source": [
    "selected_cities = ['Canberra', 'MelbourneAirport', 'Sydney']\n",
    "cities_df = df[df['Location'].isin(selected_cities)]\n",
    "cities_df = cities_df.sort_values('Location')\n",
    "min_values = cities_df.groupby('Location')['MinTemp'].min().reset_index()\n",
    "max_values = cities_df.groupby('Location')['MaxTemp'].min().reset_index()\n"
   ]
  },
  {
   "attachments": {},
   "cell_type": "markdown",
   "metadata": {},
   "source": [
    "Гістограма відображає найнижчу температуру у Canberra, MelbourneAirport, Sydney"
   ]
  },
  {
   "attachments": {},
   "cell_type": "markdown",
   "metadata": {},
   "source": [
    "Клімат Канберри холодніший, ніж у більшості інших великих австралійських міст, оскільки вона знаходиться приблизно 600 м над рівнем моря, ,чим вище розташування над рівнем моря, тим холодніший клімат"
   ]
  },
  {
   "cell_type": "code",
   "execution_count": null,
   "metadata": {},
   "outputs": [],
   "source": [
    "Research.show_histogram(min_values, 'Location', 'MinTemp', 'Minimum temperature in different locations', 'Location', 'Locations', 'MinTemp' )"
   ]
  },
  {
   "attachments": {},
   "cell_type": "markdown",
   "metadata": {},
   "source": [
    "Гістограма відображає найвижчу температуру у Canberra, MelbourneAirport, Sydney"
   ]
  },
  {
   "attachments": {},
   "cell_type": "markdown",
   "metadata": {},
   "source": [
    "У Сіднеї температура найвижча через те, що місто знаходиться на Сході Австралії, а поблизу тепла Східноавстралійська течія"
   ]
  },
  {
   "cell_type": "code",
   "execution_count": null,
   "metadata": {},
   "outputs": [],
   "source": [
    "Research.show_histogram(max_values, 'Location', 'MaxTemp', 'Maximum temperature in different locations', 'Location', 'Locations', 'MaxTemp' )"
   ]
  },
  {
   "attachments": {},
   "cell_type": "markdown",
   "metadata": {},
   "source": [
    "Графік зображає погоду у кожному з 3 міст, наскільки сонячно, хмарно та дощить"
   ]
  },
  {
   "attachments": {},
   "cell_type": "markdown",
   "metadata": {},
   "source": [
    "У Канберрі літо тепле, зима дуже холодна, і весь рік мінлива хмарність.\n"
   ]
  },
  {
   "attachments": {},
   "cell_type": "markdown",
   "metadata": {},
   "source": [
    "Погода у Мельбурні дуже схожа до Канберри, аале це місто трішки прохолодніше"
   ]
  },
  {
   "attachments": {},
   "cell_type": "markdown",
   "metadata": {},
   "source": [
    "Сідней - найтепліше місто, але, водночас, характеризується більшою кількістю опадів"
   ]
  },
  {
   "cell_type": "code",
   "execution_count": null,
   "metadata": {},
   "outputs": [],
   "source": [
    "cities_df = cities_df.groupby(['Location'], as_index=False).mean()\n",
    "fig = px.bar(cities_df, x=\"Location\", y=[\"Rainfall\", \"Sunshine\", \"Cloud3pm\"],\n",
    "             title=\"Average Values\", barmode=\"group\")\n",
    "Research.show_graph(fig)"
   ]
  },
  {
   "attachments": {},
   "cell_type": "markdown",
   "metadata": {},
   "source": [
    "Графік візуалізує залежність між розташуванням і максимальною температурою, тобто наскільки часто такі значення температури зустрічаються у певному місті. Темніші кольори вказують на більшу кількість значень температури, тоді як світліші кольори вказують на нижчу кількість значень температури."
   ]
  },
  {
   "cell_type": "code",
   "execution_count": null,
   "metadata": {},
   "outputs": [],
   "source": [
    "fig = px.density_heatmap(max_values, x=\"Location\", y=\"MaxTemp\")\n",
    "Research.show_graph(fig)"
   ]
  },
  {
   "attachments": {},
   "cell_type": "markdown",
   "metadata": {},
   "source": [
    "Цей код створює розсіювальний графік, який відображає взаємозв'язок між двома змінними (максимальна температура та кількість опадів) для різних місць (за кольором)."
   ]
  },
  {
   "attachments": {},
   "cell_type": "markdown",
   "metadata": {},
   "source": [
    "\n",
    "Залежність між температурою та опадами може вказувати на можливу кореляцію між цими двома факторами.\n",
    "\n",
    "Вісь X представляє максимальну температуру. Чим далі вправо на графіку, тим вища температура.\n",
    "\n",
    "Вісь Y представляє кількість опадів. Чим вище на графіку, тим більше опадів.\n",
    "\n",
    "Кожна точка на графіку представляє спостереження для певного місця. Різні місця позначені різними кольорами.\n"
   ]
  },
  {
   "cell_type": "code",
   "execution_count": null,
   "metadata": {},
   "outputs": [],
   "source": [
    "\n",
    "fig = px.scatter(df, x='MaxTemp', y='Rainfall', color='Location')\n",
    "Research.show_graph(fig)\n"
   ]
  },
  {
   "attachments": {},
   "cell_type": "markdown",
   "metadata": {},
   "source": [
    "Графік показує відображення кількості опадів для різних місць.\n",
    "\n",
    "Графік дозволяє порівняти кількість опадів між різними локаціями та визначити, яка локація має більшу або меншу кількість опадів в порівнянні з іншими."
   ]
  },
  {
   "cell_type": "code",
   "execution_count": null,
   "metadata": {},
   "outputs": [],
   "source": [
    "fig = px.bar(df, x='Location', y='Rainfall', color='Location')\n",
    "Research.show_graph(fig)"
   ]
  },
  {
   "attachments": {},
   "cell_type": "markdown",
   "metadata": {},
   "source": [
    "Графік показує залежність між швидкістю вітру та напрямком для різних міст. Радіальна вісь ілюструє швидкість вітру, чим ближче до центру, тим менша. Кутова вісь представляє напрямок вітру. Кожна точка на графіку відповідає певному місту.\n",
    "\n",
    "За допомогою цього графіка можна виявити, які напрямки вітру частіше мають високу швидкість, а також порівняти розподіл швидкості та напрямку вітру між різними локаціями."
   ]
  },
  {
   "cell_type": "code",
   "execution_count": null,
   "metadata": {},
   "outputs": [],
   "source": [
    "df['Date'] = pd.to_datetime(df['Date'])\n",
    "df['Year'] = df['Date'].dt.year\n",
    "df['Month'] = df['Date'].dt.month\n",
    "fig = px.imshow(df.pivot_table(values='MaxTemp', index='Month', columns='Year'),\n",
    "                x=df['Year'].unique(), y=df['Month'].unique(), color_continuous_scale='Viridis',\n",
    "                title='Temperature by Year and Month')\n",
    "fig.update_layout(xaxis_title='Year', yaxis_title='Month')\n",
    "Research.show_graph(fig)"
   ]
  },
  {
   "attachments": {},
   "cell_type": "markdown",
   "metadata": {},
   "source": [
    "Графік ілюструє щорічну кількість опадів.\n",
    "\n",
    "Можна спостерігати загальну тенденцію у зміні кількості опадів протягом років."
   ]
  },
  {
   "cell_type": "code",
   "execution_count": null,
   "metadata": {},
   "outputs": [],
   "source": [
    "fig = px.area(df, x='Date', y='Rainfall', title='Rainfall Trend Over Time')\n",
    "Research.show_graph(fig)"
   ]
  },
  {
   "attachments": {},
   "cell_type": "markdown",
   "metadata": {},
   "source": [
    "Даний графік показує діапазон температур протягом років. High - найвижча, low - найнижча.\n",
    "За цим графіком дуже класно відслідковувати сезонність та коливання температур."
   ]
  },
  {
   "cell_type": "code",
   "execution_count": null,
   "metadata": {},
   "outputs": [],
   "source": [
    "fig = go.Figure(data=[go.Candlestick(x=df['Date'],\n",
    "                open=df['MinTemp'], high=df['MaxTemp'],\n",
    "                low=df['MinTemp'], close=df['MaxTemp'])])\n",
    "fig.update_layout(title='Temperature Range Over Time', yaxis_title='Temperature')\n",
    "Research.show_graph(fig)"
   ]
  },
  {
   "attachments": {},
   "cell_type": "markdown",
   "metadata": {},
   "source": [
    "Цей графік показує щільність кількості опадів в залежності від температури за певний період часу.\n",
    "\n",
    "Наприклад, можна побачити що більше опадів випадає при вижчих температурах, ніж нижчих й зрозуміти, чи є спільна тенденція."
   ]
  },
  {
   "cell_type": "code",
   "execution_count": null,
   "metadata": {},
   "outputs": [],
   "source": [
    "fig = px.density_heatmap(df, x='Date', y='MaxTemp', z='Rainfall',\n",
    "                         title='Temperature and Rainfall Density')\n",
    "Research.show_graph(fig)"
   ]
  },
  {
   "attachments": {},
   "cell_type": "markdown",
   "metadata": {},
   "source": [
    "1. Europe weather dataset"
   ]
  },
  {
   "attachments": {},
   "cell_type": "markdown",
   "metadata": {},
   "source": [
    "Зчитуємо дані про погоду з датасету, видаляємо дані про столиці країн, змінюємо формат дат та додаємо стовбець season, що відповідає порі року відповідно до дати"
   ]
  },
  {
   "cell_type": "code",
   "execution_count": null,
   "metadata": {},
   "outputs": [],
   "source": [
    "mainres = Research()\n",
    "weather_df = mainres.read_information('daily_weather_data.csv')\n",
    "weather_df['date'] = pd.to_datetime(weather_df['date'], format='%d-%m-%Y')\n",
    "# Застосовуємо новий формат дати \"MM/DD/YYYY\"\n",
    "weather_df['date'] = weather_df['date'].dt.strftime('%m/%d/%Y')\n",
    "weather_df = mainres.pd_delete_column(weather_df, 'city', 1)\n",
    "weather_df['season'] = pd.to_datetime(weather_df['date']).dt.month.map({\n",
    "    12: 'winter',\n",
    "    1: 'winter',\n",
    "    2: 'winter',\n",
    "    3: 'spring',\n",
    "    4: 'spring',\n",
    "    5: 'spring',\n",
    "    6: 'summer',\n",
    "    7: 'summer',\n",
    "    8: 'summer',\n",
    "    9: 'autumn',\n",
    "    10: 'autumn',\n",
    "    11: 'autumn'\n",
    "})"
   ]
  },
  {
   "attachments": {},
   "cell_type": "markdown",
   "metadata": {},
   "source": [
    "Ми вирішили аналізувати країни Європи, тож залишаємо лише їх.\n",
    "Також замінюємо кожне значення напряму вітру в градусах на сторони світу"
   ]
  },
  {
   "cell_type": "code",
   "execution_count": null,
   "metadata": {},
   "outputs": [],
   "source": [
    "weather_df = weather_df[weather_df['country'].apply(lambda x: mainres.country_to_continent(x) == 'Europe')]\n",
    "weather_df['wdir'] = weather_df['wdir'].apply(mainres.replace_wdir)"
   ]
  },
  {
   "attachments": {},
   "cell_type": "markdown",
   "metadata": {},
   "source": [
    "Створюємо ще два dataframes. Отримуємо:\n",
    "\n",
    "weather_df - зберігає дані про температуру щодня протягом 2018 - 2022 років\n",
    "\n",
    "weather_df_min_max - зберігає день з найвищою і найнижчою середніми температурами для кожної країни\n",
    "\n",
    "weather_df_avg - зберігає значення загальної середньої температури країни за 2018 - 2022 роки"
   ]
  },
  {
   "cell_type": "code",
   "execution_count": null,
   "metadata": {},
   "outputs": [],
   "source": [
    "max_rows = mainres.group_by(weather_df, 'country', 'largest', 'tavg')\n",
    "min_rows = mainres.group_by(weather_df, 'country', 'smallest', 'tavg')\n",
    "result = pd.concat([max_rows, min_rows])[['date', 'country', 'Latitude', 'Longitude', 'tavg', 'tmin', 'tmax', 'wdir', 'wspd', 'pres']]\n",
    "weather_df_min_max = mainres.sort_by(result, 'country')\n",
    "\n",
    "\n",
    "df_avg_temp = weather_df.groupby('country')['tavg'].mean()\n",
    "df_lat = weather_df.groupby('country')['Latitude'].unique().apply(lambda x: x[0])\n",
    "df_lon = weather_df.groupby('country')['Longitude'].unique().apply(lambda x: x[0])\n",
    "weather_df_tavg = pd.DataFrame({'country': df_avg_temp.index, 'tavg': df_avg_temp.values.round(2),\n",
    "                          'Latitude': df_lat.values, 'Longitude': df_lon.values})"
   ]
  },
  {
   "attachments": {},
   "cell_type": "markdown",
   "metadata": {},
   "source": [
    "Відображаємо мапу з позначеннями середньої температури у кожній країні"
   ]
  },
  {
   "cell_type": "code",
   "execution_count": null,
   "metadata": {},
   "outputs": [],
   "source": [
    "lat = weather_df_tavg['Latitude']\n",
    "lon = weather_df_tavg['Longitude']\n",
    "temp = weather_df_tavg['tavg']\n",
    "fig = px.density_mapbox(lat=lat, lon=lon, z=temp, radius=20,\n",
    "                        center=dict(lat=48, lon=16), zoom=2,\n",
    "                        mapbox_style=\"stamen-terrain\")\n",
    "Research.show_graph(fig)"
   ]
  },
  {
   "attachments": {},
   "cell_type": "markdown",
   "metadata": {},
   "source": [
    "Створюємо лінійний графік для відображення різниці у середній найвищій та найнижчій температурах різних країн.\n",
    "На ньому добре прослідковується різниця у коливаннях температур між країнами а також візуально зрозуміла загальна тенденція щодо температур в країнах"
   ]
  },
  {
   "cell_type": "code",
   "execution_count": null,
   "metadata": {},
   "outputs": [],
   "source": [
    "fig = px.line(weather_df_min_max, x=\"tavg\", y=\"country\", color='country')\n",
    "Research.show_graph(fig)"
   ]
  },
  {
   "attachments": {},
   "cell_type": "markdown",
   "metadata": {},
   "source": [
    "Створюємо кругову діаграму переважаючих напрямків вітру у Європі"
   ]
  },
  {
   "cell_type": "code",
   "execution_count": null,
   "metadata": {},
   "outputs": [],
   "source": [
    "wdir_counts = weather_df['wdir'].value_counts()\n",
    "fig = px.pie(wdir_counts, values=wdir_counts.values, names=wdir_counts.index)\n",
    "Research.show_graph(fig)"
   ]
  },
  {
   "attachments": {},
   "cell_type": "markdown",
   "metadata": {},
   "source": [
    "Створюємо діаграму залежності напрямку вітру від пори року"
   ]
  },
  {
   "cell_type": "code",
   "execution_count": null,
   "metadata": {},
   "outputs": [],
   "source": [
    "df_percentage = weather_df.groupby(['season', 'wdir']).size().groupby(level=0).apply(lambda x: 100 * x / float(x.sum())).reset_index(name='percentage')\n",
    "fig = px.pie(df_percentage, values='percentage', names='wdir', hole=0.3, color='wdir', facet_col='season', facet_col_wrap=2)\n",
    "fig.update_layout(\n",
    "    title='Wind Distribution by Season',\n",
    "    annotations=[dict(text='autumn\\nspring\\nsummer\\nwinter', x=0.5, y=-0.15, font_size=14, showarrow=False) for season in df_percentage['season'].unique()],\n",
    "    showlegend=False\n",
    ")\n",
    "\n",
    "Research.show_graph(fig)"
   ]
  },
  {
   "attachments": {},
   "cell_type": "markdown",
   "metadata": {},
   "source": [
    "Створюємо графік коливання температур протягом 2018-2022 років для заданої країни"
   ]
  },
  {
   "cell_type": "code",
   "execution_count": null,
   "metadata": {},
   "outputs": [],
   "source": [
    "country = input('Input country name, from the capital letter: >>> ')\n",
    "try:\n",
    "  weather_df = pd.read_csv('daily_weather_data.csv')\n",
    "  filtered_df = weather_df[weather_df['country'] == country]\n",
    "  fig = px.line(filtered_df, x=\"date\", y=\"tavg\", color='country')\n",
    "  Research.show_graph(fig)\n",
    "except NameError:\n",
    "  print('Try againg. Wrong name of the country')"
   ]
  },
  {
   "attachments": {},
   "cell_type": "markdown",
   "metadata": {},
   "source": [
    "Створюємо кругову стовпчасту діаграму зміни швидкості вітру від напрямку"
   ]
  },
  {
   "cell_type": "code",
   "execution_count": null,
   "metadata": {},
   "outputs": [],
   "source": [
    "weather_df_result = mainres.sort_by(result, 'country')\n",
    "\n",
    "fig = px.bar_polar(weather_df_result, r=\"wspd\", theta=\"wdir\", color=\"wspd\", template=\"plotly_dark\",\n",
    "            color_discrete_sequence= px.colors.sequential.Plasma_r)\n",
    "Research.show_graph(fig)"
   ]
  },
  {
   "attachments": {},
   "cell_type": "markdown",
   "metadata": {},
   "source": [
    "Висновок"
   ]
  },
  {
   "attachments": {},
   "cell_type": "markdown",
   "metadata": {},
   "source": [
    "За допомогою бібліотеки Plotly, допоміжних бібліотек та даних про погодні умови Австралії та Європи, ми дослідили основні показники погодніх умов у країнах, розташованих на цих територіях, що може бути корисним для туристів, або людей, які планують емігрувати до Австралії або Європи."
   ]
  }
 ],
 "metadata": {
  "kernelspec": {
   "display_name": "Python 3.10.6 64-bit",
   "language": "python",
   "name": "python3"
  },
  "language_info": {
   "codemirror_mode": {
    "name": "ipython",
    "version": 3
   },
   "file_extension": ".py",
   "mimetype": "text/x-python",
   "name": "python",
   "nbconvert_exporter": "python",
   "pygments_lexer": "ipython3",
   "version": "3.10.6"
  },
  "orig_nbformat": 4,
  "vscode": {
   "interpreter": {
    "hash": "bd385fe162c5ca0c84973b7dd5c518456272446b2b64e67c2a69f949ca7a1754"
   }
  }
 },
 "nbformat": 4,
 "nbformat_minor": 2
}
